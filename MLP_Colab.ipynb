{
  "nbformat": 4,
  "nbformat_minor": 0,
  "metadata": {
    "colab": {
      "name": "MLP.ipynb",
      "provenance": [],
      "collapsed_sections": []
    },
    "kernelspec": {
      "name": "python3",
      "display_name": "Python 3"
    }
  },
  "cells": [
    {
      "cell_type": "markdown",
      "metadata": {
        "id": "i3UmGIb1h3vI",
        "colab_type": "text"
      },
      "source": [
        "Importación de librerías:"
      ]
    },
    {
      "cell_type": "code",
      "metadata": {
        "id": "b-yqX6dyhxk5",
        "colab_type": "code",
        "colab": {}
      },
      "source": [
        "import sklearn\n",
        "import matplotlib.pyplot as plt\n",
        "from sklearn.linear_model import LogisticRegression\n",
        "import seaborn as sns\n",
        "from sklearn import metrics\n",
        "from sklearn.neural_network import MLPClassifier\n",
        "from sklearn.metrics import accuracy_score\n",
        "from sklearn.metrics import f1_score\n",
        "from sklearn.datasets import load_breast_cancer\n",
        "from sklearn.model_selection import train_test_split"
      ],
      "execution_count": null,
      "outputs": []
    },
    {
      "cell_type": "markdown",
      "metadata": {
        "id": "_jtVQuqviHpr",
        "colab_type": "text"
      },
      "source": [
        "Importación de la base de datos Breast_Cancer:"
      ]
    },
    {
      "cell_type": "code",
      "metadata": {
        "id": "u2zD5wjjiBY6",
        "colab_type": "code",
        "colab": {}
      },
      "source": [
        "cancer = load_breast_cancer()"
      ],
      "execution_count": null,
      "outputs": []
    },
    {
      "cell_type": "markdown",
      "metadata": {
        "id": "9hZWTDztis5h",
        "colab_type": "text"
      },
      "source": [
        "Carga de data y ajuste de variables para trabajar con los datos de Breast_Cancer:"
      ]
    },
    {
      "cell_type": "code",
      "metadata": {
        "id": "7Hh5ZpD6imTC",
        "colab_type": "code",
        "colab": {}
      },
      "source": [
        "x_train, x_test, y_train, y_test = train_test_split(cancer.data, cancer.target, test_size=0.2, random_state=0)"
      ],
      "execution_count": null,
      "outputs": []
    },
    {
      "cell_type": "markdown",
      "metadata": {
        "id": "VmT3Qok6jFny",
        "colab_type": "text"
      },
      "source": [
        "Carga del MLP y resultado del score:"
      ]
    },
    {
      "cell_type": "code",
      "metadata": {
        "id": "LJ3Zc3yVjAk7",
        "colab_type": "code",
        "colab": {
          "base_uri": "https://localhost:8080/",
          "height": 33
        },
        "outputId": "93f48a62-a901-43ae-d9c2-3ce7079909bb"
      },
      "source": [
        "mlperceptron = MLPClassifier(solver='sgd', hidden_layer_sizes=(25), activation='logistic',\n",
        "                             max_iter=500, early_stopping=True, verbose=False,warm_start=False)\n",
        "mlperceptron.fit(x_train, y_train)\n",
        "predictions = mlperceptron.predict(x_test)\n",
        "# Use score method to get accuracy of model\n",
        "score = mlperceptron.score(x_test, y_test)\n",
        "print(score)"
      ],
      "execution_count": null,
      "outputs": [
        {
          "output_type": "stream",
          "text": [
            "0.8596491228070176\n"
          ],
          "name": "stdout"
        }
      ]
    },
    {
      "cell_type": "markdown",
      "metadata": {
        "id": "iroF4Y9Cjqox",
        "colab_type": "text"
      },
      "source": [
        "Matriz de confusión:"
      ]
    },
    {
      "cell_type": "code",
      "metadata": {
        "id": "Pf-5_mfTjnd5",
        "colab_type": "code",
        "colab": {
          "base_uri": "https://localhost:8080/",
          "height": 50
        },
        "outputId": "6ecc1537-2774-45d1-c484-4c97a1ea7bae"
      },
      "source": [
        "cm = metrics.confusion_matrix(y_test, predictions)\n",
        "print(cm)"
      ],
      "execution_count": null,
      "outputs": [
        {
          "output_type": "stream",
          "text": [
            "[[32 15]\n",
            " [ 1 66]]\n"
          ],
          "name": "stdout"
        }
      ]
    },
    {
      "cell_type": "markdown",
      "metadata": {
        "id": "TzrDsIPhj6iK",
        "colab_type": "text"
      },
      "source": [
        "Matriz de confusión detallada:"
      ]
    },
    {
      "cell_type": "code",
      "metadata": {
        "id": "5MlSpJsYjwxZ",
        "colab_type": "code",
        "colab": {
          "base_uri": "https://localhost:8080/",
          "height": 536
        },
        "outputId": "bd3bc434-5202-4fa7-fed2-476960673c72"
      },
      "source": [
        "plt.figure(figsize=(9,9))\n",
        "sns.heatmap(cm, annot=True, fmt=\".3f\", linewidths=.5, square = True, cmap = 'Blues_r')\n",
        "plt.ylabel('Actual label')\n",
        "plt.xlabel('Predicted label')\n",
        "all_sample_title = 'Accuracy Score: {0}'.format(score)\n",
        "plt.title(all_sample_title, size = 15)"
      ],
      "execution_count": null,
      "outputs": [
        {
          "output_type": "execute_result",
          "data": {
            "text/plain": [
              "Text(0.5, 1.0, 'Accuracy Score: 0.8596491228070176')"
            ]
          },
          "metadata": {
            "tags": []
          },
          "execution_count": 32
        },
        {
          "output_type": "display_data",
          "data": {
            "image/png": "[encoded data removed]",
            "text/plain": [
              "<Figure size 648x648 with 2 Axes>"
            ]
          },
          "metadata": {
            "tags": [],
            "needs_background": "light"
          }
        }
      ]
    },
    {
      "cell_type": "markdown",
      "metadata": {
        "id": "TztDwIdDkEfR",
        "colab_type": "text"
      },
      "source": [
        "Imágenes:"
      ]
    },
    {
      "cell_type": "markdown",
      "metadata": {
        "id": "m7fCbfWjkSjh",
        "colab_type": "text"
      },
      "source": [
        "Accuracy:"
      ]
    },
    {
      "cell_type": "code",
      "metadata": {
        "id": "UtzrPVU7kM-a",
        "colab_type": "code",
        "colab": {
          "base_uri": "https://localhost:8080/",
          "height": 50
        },
        "outputId": "f04e71bb-ec44-4495-c3de-a934a467baea"
      },
      "source": [
        "acc = accuracy_score(y_test, predictions, normalize=False)\n",
        "print(\"Number of Correct predicted: \" + str(acc) +\" of \"+ str(len(y_test)))\n",
        "print(acc / len(y_test))"
      ],
      "execution_count": null,
      "outputs": [
        {
          "output_type": "stream",
          "text": [
            "Number of Correct predicted: 98 of 114\n",
            "0.8596491228070176\n"
          ],
          "name": "stdout"
        }
      ]
    },
    {
      "cell_type": "markdown",
      "metadata": {
        "id": "ODcgEoQKkZuy",
        "colab_type": "text"
      },
      "source": [
        "F1 score:"
      ]
    },
    {
      "cell_type": "code",
      "metadata": {
        "id": "s5YM3ri9kXVr",
        "colab_type": "code",
        "colab": {
          "base_uri": "https://localhost:8080/",
          "height": 33
        },
        "outputId": "8d4383cc-26e3-4f69-e082-ed7ade4ca58e"
      },
      "source": [
        "f1_score(y_test, predictions, average='macro')"
      ],
      "execution_count": null,
      "outputs": [
        {
          "output_type": "execute_result",
          "data": {
            "text/plain": [
              "0.8560606060606061"
            ]
          },
          "metadata": {
            "tags": []
          },
          "execution_count": 19
        }
      ]
    }
  ]
}